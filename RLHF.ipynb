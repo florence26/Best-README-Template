{
  "nbformat": 4,
  "nbformat_minor": 0,
  "metadata": {
    "colab": {
      "provenance": [],
      "authorship_tag": "ABX9TyMDlPKFhgDU46ZNnMXOGW5b",
      "include_colab_link": true
    },
    "kernelspec": {
      "name": "python3",
      "display_name": "Python 3"
    },
    "language_info": {
      "name": "python"
    }
  },
  "cells": [
    {
      "cell_type": "markdown",
      "metadata": {
        "id": "view-in-github",
        "colab_type": "text"
      },
      "source": [
        "<a href=\"https://colab.research.google.com/github/florence26/Best-README-Template/blob/master/RLHF.ipynb\" target=\"_parent\"><img src=\"https://colab.research.google.com/assets/colab-badge.svg\" alt=\"Open In Colab\"/></a>"
      ]
    },
    {
      "cell_type": "code",
      "source": [
        "pip install torch transformers trl"
      ],
      "metadata": {
        "colab": {
          "base_uri": "https://localhost:8080/"
        },
        "id": "nzBLCJMwNW9C",
        "outputId": "355fa2ad-4453-4533-a21d-3ed47c6cebe3"
      },
      "execution_count": 1,
      "outputs": [
        {
          "output_type": "stream",
          "name": "stdout",
          "text": [
            "Looking in indexes: https://pypi.org/simple, https://us-python.pkg.dev/colab-wheels/public/simple/\n",
            "Requirement already satisfied: torch in /usr/local/lib/python3.10/dist-packages (2.0.1+cu118)\n",
            "Collecting transformers\n",
            "  Downloading transformers-4.30.1-py3-none-any.whl (7.2 MB)\n",
            "\u001b[2K     \u001b[90m━━━━━━━━━━━━━━━━━━━━━━━━━━━━━━━━━━━━━━━━\u001b[0m \u001b[32m7.2/7.2 MB\u001b[0m \u001b[31m64.0 MB/s\u001b[0m eta \u001b[36m0:00:00\u001b[0m\n",
            "\u001b[?25hCollecting trl\n",
            "  Downloading trl-0.4.4-py3-none-any.whl (68 kB)\n",
            "\u001b[2K     \u001b[90m━━━━━━━━━━━━━━━━━━━━━━━━━━━━━━━━━━━━━━━━\u001b[0m \u001b[32m68.4/68.4 kB\u001b[0m \u001b[31m6.5 MB/s\u001b[0m eta \u001b[36m0:00:00\u001b[0m\n",
            "\u001b[?25hRequirement already satisfied: filelock in /usr/local/lib/python3.10/dist-packages (from torch) (3.12.0)\n",
            "Requirement already satisfied: typing-extensions in /usr/local/lib/python3.10/dist-packages (from torch) (4.5.0)\n",
            "Requirement already satisfied: sympy in /usr/local/lib/python3.10/dist-packages (from torch) (1.11.1)\n",
            "Requirement already satisfied: networkx in /usr/local/lib/python3.10/dist-packages (from torch) (3.1)\n",
            "Requirement already satisfied: jinja2 in /usr/local/lib/python3.10/dist-packages (from torch) (3.1.2)\n",
            "Requirement already satisfied: triton==2.0.0 in /usr/local/lib/python3.10/dist-packages (from torch) (2.0.0)\n",
            "Requirement already satisfied: cmake in /usr/local/lib/python3.10/dist-packages (from triton==2.0.0->torch) (3.25.2)\n",
            "Requirement already satisfied: lit in /usr/local/lib/python3.10/dist-packages (from triton==2.0.0->torch) (16.0.5)\n",
            "Collecting huggingface-hub<1.0,>=0.14.1 (from transformers)\n",
            "  Downloading huggingface_hub-0.15.1-py3-none-any.whl (236 kB)\n",
            "\u001b[2K     \u001b[90m━━━━━━━━━━━━━━━━━━━━━━━━━━━━━━━━━━━━━━\u001b[0m \u001b[32m236.8/236.8 kB\u001b[0m \u001b[31m17.1 MB/s\u001b[0m eta \u001b[36m0:00:00\u001b[0m\n",
            "\u001b[?25hRequirement already satisfied: numpy>=1.17 in /usr/local/lib/python3.10/dist-packages (from transformers) (1.22.4)\n",
            "Requirement already satisfied: packaging>=20.0 in /usr/local/lib/python3.10/dist-packages (from transformers) (23.1)\n",
            "Requirement already satisfied: pyyaml>=5.1 in /usr/local/lib/python3.10/dist-packages (from transformers) (6.0)\n",
            "Requirement already satisfied: regex!=2019.12.17 in /usr/local/lib/python3.10/dist-packages (from transformers) (2022.10.31)\n",
            "Requirement already satisfied: requests in /usr/local/lib/python3.10/dist-packages (from transformers) (2.27.1)\n",
            "Collecting tokenizers!=0.11.3,<0.14,>=0.11.1 (from transformers)\n",
            "  Downloading tokenizers-0.13.3-cp310-cp310-manylinux_2_17_x86_64.manylinux2014_x86_64.whl (7.8 MB)\n",
            "\u001b[2K     \u001b[90m━━━━━━━━━━━━━━━━━━━━━━━━━━━━━━━━━━━━━━━━\u001b[0m \u001b[32m7.8/7.8 MB\u001b[0m \u001b[31m106.5 MB/s\u001b[0m eta \u001b[36m0:00:00\u001b[0m\n",
            "\u001b[?25hCollecting safetensors>=0.3.1 (from transformers)\n",
            "  Downloading safetensors-0.3.1-cp310-cp310-manylinux_2_17_x86_64.manylinux2014_x86_64.whl (1.3 MB)\n",
            "\u001b[2K     \u001b[90m━━━━━━━━━━━━━━━━━━━━━━━━━━━━━━━━━━━━━━━━\u001b[0m \u001b[32m1.3/1.3 MB\u001b[0m \u001b[31m68.1 MB/s\u001b[0m eta \u001b[36m0:00:00\u001b[0m\n",
            "\u001b[?25hRequirement already satisfied: tqdm>=4.27 in /usr/local/lib/python3.10/dist-packages (from transformers) (4.65.0)\n",
            "Collecting accelerate (from trl)\n",
            "  Downloading accelerate-0.20.3-py3-none-any.whl (227 kB)\n",
            "\u001b[2K     \u001b[90m━━━━━━━━━━━━━━━━━━━━━━━━━━━━━━━━━━━━━━\u001b[0m \u001b[32m227.6/227.6 kB\u001b[0m \u001b[31m19.6 MB/s\u001b[0m eta \u001b[36m0:00:00\u001b[0m\n",
            "\u001b[?25hCollecting datasets (from trl)\n",
            "  Downloading datasets-2.12.0-py3-none-any.whl (474 kB)\n",
            "\u001b[2K     \u001b[90m━━━━━━━━━━━━━━━━━━━━━━━━━━━━━━━━━━━━━━\u001b[0m \u001b[32m474.6/474.6 kB\u001b[0m \u001b[31m41.8 MB/s\u001b[0m eta \u001b[36m0:00:00\u001b[0m\n",
            "\u001b[?25hRequirement already satisfied: fsspec in /usr/local/lib/python3.10/dist-packages (from huggingface-hub<1.0,>=0.14.1->transformers) (2023.4.0)\n",
            "Requirement already satisfied: psutil in /usr/local/lib/python3.10/dist-packages (from accelerate->trl) (5.9.5)\n",
            "Requirement already satisfied: pyarrow>=8.0.0 in /usr/local/lib/python3.10/dist-packages (from datasets->trl) (9.0.0)\n",
            "Collecting dill<0.3.7,>=0.3.0 (from datasets->trl)\n",
            "  Downloading dill-0.3.6-py3-none-any.whl (110 kB)\n",
            "\u001b[2K     \u001b[90m━━━━━━━━━━━━━━━━━━━━━━━━━━━━━━━━━━━━━━━\u001b[0m \u001b[32m110.5/110.5 kB\u001b[0m \u001b[31m7.7 MB/s\u001b[0m eta \u001b[36m0:00:00\u001b[0m\n",
            "\u001b[?25hRequirement already satisfied: pandas in /usr/local/lib/python3.10/dist-packages (from datasets->trl) (1.5.3)\n",
            "Collecting xxhash (from datasets->trl)\n",
            "  Downloading xxhash-3.2.0-cp310-cp310-manylinux_2_17_x86_64.manylinux2014_x86_64.whl (212 kB)\n",
            "\u001b[2K     \u001b[90m━━━━━━━━━━━━━━━━━━━━━━━━━━━━━━━━━━━━━━\u001b[0m \u001b[32m212.5/212.5 kB\u001b[0m \u001b[31m20.5 MB/s\u001b[0m eta \u001b[36m0:00:00\u001b[0m\n",
            "\u001b[?25hCollecting multiprocess (from datasets->trl)\n",
            "  Downloading multiprocess-0.70.14-py310-none-any.whl (134 kB)\n",
            "\u001b[2K     \u001b[90m━━━━━━━━━━━━━━━━━━━━━━━━━━━━━━━━━━━━━━\u001b[0m \u001b[32m134.3/134.3 kB\u001b[0m \u001b[31m10.9 MB/s\u001b[0m eta \u001b[36m0:00:00\u001b[0m\n",
            "\u001b[?25hCollecting aiohttp (from datasets->trl)\n",
            "  Downloading aiohttp-3.8.4-cp310-cp310-manylinux_2_17_x86_64.manylinux2014_x86_64.whl (1.0 MB)\n",
            "\u001b[2K     \u001b[90m━━━━━━━━━━━━━━━━━━━━━━━━━━━━━━━━━━━━━━━━\u001b[0m \u001b[32m1.0/1.0 MB\u001b[0m \u001b[31m39.1 MB/s\u001b[0m eta \u001b[36m0:00:00\u001b[0m\n",
            "\u001b[?25hCollecting responses<0.19 (from datasets->trl)\n",
            "  Downloading responses-0.18.0-py3-none-any.whl (38 kB)\n",
            "Requirement already satisfied: urllib3<1.27,>=1.21.1 in /usr/local/lib/python3.10/dist-packages (from requests->transformers) (1.26.15)\n",
            "Requirement already satisfied: certifi>=2017.4.17 in /usr/local/lib/python3.10/dist-packages (from requests->transformers) (2022.12.7)\n",
            "Requirement already satisfied: charset-normalizer~=2.0.0 in /usr/local/lib/python3.10/dist-packages (from requests->transformers) (2.0.12)\n",
            "Requirement already satisfied: idna<4,>=2.5 in /usr/local/lib/python3.10/dist-packages (from requests->transformers) (3.4)\n",
            "Requirement already satisfied: MarkupSafe>=2.0 in /usr/local/lib/python3.10/dist-packages (from jinja2->torch) (2.1.2)\n",
            "Requirement already satisfied: mpmath>=0.19 in /usr/local/lib/python3.10/dist-packages (from sympy->torch) (1.3.0)\n",
            "Requirement already satisfied: attrs>=17.3.0 in /usr/local/lib/python3.10/dist-packages (from aiohttp->datasets->trl) (23.1.0)\n",
            "Collecting multidict<7.0,>=4.5 (from aiohttp->datasets->trl)\n",
            "  Downloading multidict-6.0.4-cp310-cp310-manylinux_2_17_x86_64.manylinux2014_x86_64.whl (114 kB)\n",
            "\u001b[2K     \u001b[90m━━━━━━━━━━━━━━━━━━━━━━━━━━━━━━━━━━━━━━━\u001b[0m \u001b[32m114.5/114.5 kB\u001b[0m \u001b[31m9.8 MB/s\u001b[0m eta \u001b[36m0:00:00\u001b[0m\n",
            "\u001b[?25hCollecting async-timeout<5.0,>=4.0.0a3 (from aiohttp->datasets->trl)\n",
            "  Downloading async_timeout-4.0.2-py3-none-any.whl (5.8 kB)\n",
            "Collecting yarl<2.0,>=1.0 (from aiohttp->datasets->trl)\n",
            "  Downloading yarl-1.9.2-cp310-cp310-manylinux_2_17_x86_64.manylinux2014_x86_64.whl (268 kB)\n",
            "\u001b[2K     \u001b[90m━━━━━━━━━━━━━━━━━━━━━━━━━━━━━━━━━━━━━━\u001b[0m \u001b[32m268.8/268.8 kB\u001b[0m \u001b[31m19.0 MB/s\u001b[0m eta \u001b[36m0:00:00\u001b[0m\n",
            "\u001b[?25hCollecting frozenlist>=1.1.1 (from aiohttp->datasets->trl)\n",
            "  Downloading frozenlist-1.3.3-cp310-cp310-manylinux_2_5_x86_64.manylinux1_x86_64.manylinux_2_17_x86_64.manylinux2014_x86_64.whl (149 kB)\n",
            "\u001b[2K     \u001b[90m━━━━━━━━━━━━━━━━━━━━━━━━━━━━━━━━━━━━━━\u001b[0m \u001b[32m149.6/149.6 kB\u001b[0m \u001b[31m13.5 MB/s\u001b[0m eta \u001b[36m0:00:00\u001b[0m\n",
            "\u001b[?25hCollecting aiosignal>=1.1.2 (from aiohttp->datasets->trl)\n",
            "  Downloading aiosignal-1.3.1-py3-none-any.whl (7.6 kB)\n",
            "Requirement already satisfied: python-dateutil>=2.8.1 in /usr/local/lib/python3.10/dist-packages (from pandas->datasets->trl) (2.8.2)\n",
            "Requirement already satisfied: pytz>=2020.1 in /usr/local/lib/python3.10/dist-packages (from pandas->datasets->trl) (2022.7.1)\n",
            "Requirement already satisfied: six>=1.5 in /usr/local/lib/python3.10/dist-packages (from python-dateutil>=2.8.1->pandas->datasets->trl) (1.16.0)\n",
            "Installing collected packages: tokenizers, safetensors, xxhash, multidict, frozenlist, dill, async-timeout, yarl, responses, multiprocess, huggingface-hub, aiosignal, transformers, aiohttp, datasets, accelerate, trl\n",
            "Successfully installed accelerate-0.20.3 aiohttp-3.8.4 aiosignal-1.3.1 async-timeout-4.0.2 datasets-2.12.0 dill-0.3.6 frozenlist-1.3.3 huggingface-hub-0.15.1 multidict-6.0.4 multiprocess-0.70.14 responses-0.18.0 safetensors-0.3.1 tokenizers-0.13.3 transformers-4.30.1 trl-0.4.4 xxhash-3.2.0 yarl-1.9.2\n"
          ]
        }
      ]
    },
    {
      "cell_type": "code",
      "execution_count": 3,
      "metadata": {
        "colab": {
          "base_uri": "https://localhost:8080/"
        },
        "id": "8D8gnEoBNKYR",
        "outputId": "9d232fdc-c2d8-41f9-c61a-0a1a915ba67a"
      },
      "outputs": [
        {
          "output_type": "stream",
          "name": "stderr",
          "text": [
            "You're using a GPT2TokenizerFast tokenizer. Please note that with a fast tokenizer, using the `__call__` method is faster than using a method to encode the text followed by a call to the `pad` method to get a padded encoding.\n"
          ]
        }
      ],
      "source": [
        "# imports\n",
        "import torch\n",
        "from transformers import AutoTokenizer\n",
        "from trl import PPOTrainer, PPOConfig, AutoModelForCausalLMWithValueHead, create_reference_model\n",
        "from trl.core import respond_to_batch\n",
        "\n",
        "# get models\n",
        "model = AutoModelForCausalLMWithValueHead.from_pretrained('gpt2')\n",
        "model_ref = create_reference_model(model)\n",
        "\n",
        "tokenizer = AutoTokenizer.from_pretrained('gpt2')\n",
        "tokenizer.pad_token = tokenizer.eos_token\n",
        "\n",
        "# initialize trainer\n",
        "ppo_config = PPOConfig(\n",
        "    batch_size=1,\n",
        ")\n",
        "\n",
        "# encode a query\n",
        "query_txt = \"This morning I went to the \"\n",
        "query_tensor = tokenizer.encode(query_txt, return_tensors=\"pt\")\n",
        "\n",
        "# get model response\n",
        "response_tensor  = respond_to_batch(model, query_tensor)\n",
        "\n",
        "# create a ppo trainer\n",
        "ppo_trainer = PPOTrainer(ppo_config, model, model_ref, tokenizer)\n",
        "\n",
        "# define a reward for response\n",
        "# (this could be any reward such as human feedback or output from another model)\n",
        "reward = [torch.tensor(1.0)]\n",
        "\n",
        "# train model for one step with ppo\n",
        "train_stats = ppo_trainer.step([query_tensor[0]], [response_tensor[0]], reward)"
      ]
    },
    {
      "cell_type": "code",
      "source": [
        "train_stats"
      ],
      "metadata": {
        "colab": {
          "base_uri": "https://localhost:8080/"
        },
        "id": "GuCIpvSQN2_U",
        "outputId": "f921591b-72b8-4a27-b33d-502cbd4ea234"
      },
      "execution_count": 4,
      "outputs": [
        {
          "output_type": "execute_result",
          "data": {
            "text/plain": [
              "{'objective/kl': 0.0,\n",
              " 'objective/kl_dist': 0.0,\n",
              " 'objective/logprobs': array([[ -8.146128  ,  -2.2490625 ,  -2.660843  ,  -0.63041306,\n",
              "          -1.6609842 ,  -9.227812  ,  -1.850388  ,  -0.7273568 ,\n",
              "          -7.8774214 ,  -4.2604723 ,  -0.91693497,  -3.4869213 ,\n",
              "          -7.496439  , -12.244268  ,  -8.733838  , -14.751516  ,\n",
              "          -0.43814293,  -0.7232631 ,  -8.390723  ,  -0.4594798 ,\n",
              "          -6.8647447 ,  -4.817911  ,  -2.2436304 ,  -6.5882416 ,\n",
              "          -0.23531908,  -3.5011754 ]], dtype=float32),\n",
              " 'objective/ref_logprobs': array([[ -8.146128  ,  -2.2490625 ,  -2.660843  ,  -0.63041306,\n",
              "          -1.6609842 ,  -9.227812  ,  -1.850388  ,  -0.7273568 ,\n",
              "          -7.8774214 ,  -4.2604723 ,  -0.91693497,  -3.4869213 ,\n",
              "          -7.496439  , -12.244268  ,  -8.733838  , -14.751516  ,\n",
              "          -0.43814293,  -0.7232631 ,  -8.390723  ,  -0.4594798 ,\n",
              "          -6.8647447 ,  -4.817911  ,  -2.2436304 ,  -6.5882416 ,\n",
              "          -0.23531908,  -3.5011754 ]], dtype=float32),\n",
              " 'objective/kl_coef': 0.2,\n",
              " 'objective/entropy': 96.60819244384766,\n",
              " 'ppo/mean_non_score_reward': 0.0,\n",
              " 'ppo/mean_scores': 1.0,\n",
              " 'ppo/std_scores': nan,\n",
              " 'tokens/queries_len_mean': 7.0,\n",
              " 'tokens/queries_len_std': nan,\n",
              " 'tokens/queries_dist': 7.0,\n",
              " 'tokens/responses_len_mean': 20.0,\n",
              " 'tokens/responses_len_std': nan,\n",
              " 'tokens/responses_dist': 20.0,\n",
              " 'ppo/loss/policy': -0.11024641990661621,\n",
              " 'ppo/loss/value': 6.2407684326171875,\n",
              " 'ppo/loss/total': 0.5138304233551025,\n",
              " 'ppo/policy/entropy': 3.946187973022461,\n",
              " 'ppo/policy/approxkl': 0.25594109296798706,\n",
              " 'ppo/policy/policykl': 0.12226711213588715,\n",
              " 'ppo/policy/clipfrac': 0.55,\n",
              " 'ppo/policy/advantages': array([-2.5445068 , -2.5889666 , -2.635766  , -2.6850288 , -2.7368846 ,\n",
              "        -2.7914696 , -1.0974877 , -0.46981034, -0.16349867, -1.0747819 ,\n",
              "        -2.1704912 ,  0.41852745, -1.6343734 ,  0.22832236,  0.5595649 ,\n",
              "        -0.00923182, -0.27839756,  0.15758117, -0.48221353,  1.0747062 ,\n",
              "         1.2245749 ,  0.6623887 , -0.6452174 ,  1.4345055 ,  1.1645576 ,\n",
              "         1.1007713 , -2.5445068 , -2.5889666 , -2.635766  , -2.6850288 ,\n",
              "        -2.7368846 , -2.7914696 , -1.0974877 , -0.46981034, -0.16349867,\n",
              "        -1.0747819 , -2.1704912 ,  0.41852745, -1.6343734 ,  0.22832236,\n",
              "         0.5595649 , -0.00923182, -0.27839756,  0.15758117, -0.48221353,\n",
              "         1.0747062 ,  1.2245749 ,  0.6623887 , -0.6452174 ,  1.4345055 ,\n",
              "         1.1645576 ,  1.1007713 , -2.5445068 , -2.5889666 , -2.635766  ,\n",
              "        -2.6850288 , -2.7368846 , -2.7914696 , -1.0974877 , -0.46981034,\n",
              "        -0.16349867, -1.0747819 , -2.1704912 ,  0.41852745, -1.6343734 ,\n",
              "         0.22832236,  0.5595649 , -0.00923182, -0.27839756,  0.15758117,\n",
              "        -0.48221353,  1.0747062 ,  1.2245749 ,  0.6623887 , -0.6452174 ,\n",
              "         1.4345055 ,  1.1645576 ,  1.1007713 , -2.5445068 , -2.5889666 ,\n",
              "        -2.635766  , -2.6850288 , -2.7368846 , -2.7914696 , -1.0974877 ,\n",
              "        -0.46981034, -0.16349867, -1.0747819 , -2.1704912 ,  0.41852745,\n",
              "        -1.6343734 ,  0.22832236,  0.5595649 , -0.00923182, -0.27839756,\n",
              "         0.15758117, -0.48221353,  1.0747062 ,  1.2245749 ,  0.6623887 ,\n",
              "        -0.6452174 ,  1.4345055 ,  1.1645576 ,  1.1007713 ], dtype=float32),\n",
              " 'ppo/policy/advantages_mean': -1.7881393432617188e-07,\n",
              " 'ppo/policy/ratio': array([1.        , 1.        , 1.        , 1.        , 1.        ,\n",
              "        1.        , 1.        , 1.        , 1.        , 1.        ,\n",
              "        1.        , 1.        , 1.        , 1.        , 1.        ,\n",
              "        1.        , 1.        , 1.        , 1.        , 1.        ,\n",
              "        1.        , 1.        , 1.        , 1.        , 1.        ,\n",
              "        1.        , 0.9987962 , 0.96250194, 1.026455  , 1.0154521 ,\n",
              "        1.0276576 , 1.0317651 , 0.57942635, 0.517135  , 1.220464  ,\n",
              "        0.26775697, 0.5156702 , 1.2801305 , 0.3436461 , 1.1947312 ,\n",
              "        1.1787454 , 1.018319  , 1.0287788 , 1.1347151 , 0.56867754,\n",
              "        1.2303176 , 1.6510469 , 1.3428805 , 0.8773719 , 1.4621698 ,\n",
              "        1.0550406 , 1.6803437 , 0.99906296, 0.9452738 , 1.0432752 ,\n",
              "        1.0236218 , 1.0414606 , 1.045002  , 0.40649566, 0.31271178,\n",
              "        1.2897937 , 0.12771247, 0.3247127 , 1.454646  , 0.20093353,\n",
              "        1.5441992 , 1.6773254 , 0.9745925 , 0.9987524 , 1.2075117 ,\n",
              "        0.4027328 , 1.299775  , 2.2137136 , 1.543968  , 0.7664519 ,\n",
              "        1.8135312 , 1.108529  , 2.2724054 , 0.9984296 , 0.9362313 ,\n",
              "        1.0572091 , 1.0309708 , 1.0599736 , 1.0432086 , 0.31683066,\n",
              "        0.20593433, 1.2886785 , 0.07752509, 0.22964826, 1.5623533 ,\n",
              "        0.14380601, 1.8554457 , 2.1157568 , 0.8954552 , 0.97811615,\n",
              "        1.2444813 , 0.30852336, 1.3133905 , 2.4655533 , 1.7088253 ,\n",
              "        0.69755334, 2.0989015 , 1.148145  , 2.7509701 ], dtype=float32),\n",
              " 'ppo/returns/mean': -0.6391275525093079,\n",
              " 'ppo/returns/var': 0.737147331237793,\n",
              " 'ppo/val/vpred': -3.5425848960876465,\n",
              " 'ppo/val/error': 10.87121295928955,\n",
              " 'ppo/val/clipfrac': 0.425,\n",
              " 'ppo/val/mean': -3.4344565868377686,\n",
              " 'ppo/val/var': 1.4741671085357666,\n",
              " 'ppo/time/ppo/optimizer_step': 0.6276439428329468,\n",
              " 'ppo/val/var_explained': -13.747679710388184,\n",
              " 'ppo/learning_rate': 1e-05,\n",
              " 'time/ppo/forward_pass': 0.4537832736968994,\n",
              " 'time/ppo/compute_rewards': 0.0006892681121826172,\n",
              " 'time/ppo/optimize_step': 6.0613813400268555,\n",
              " 'time/ppo/calc_stats': 0.003145933151245117,\n",
              " 'time/ppo/total': 6.610069036483765}"
            ]
          },
          "metadata": {},
          "execution_count": 4
        }
      ]
    }
  ]
}